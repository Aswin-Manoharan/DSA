{
 "cells": [
  {
   "cell_type": "code",
   "execution_count": 1,
   "id": "088866de",
   "metadata": {},
   "outputs": [],
   "source": [
    "import pandas as pd\n",
    "import numpy as np"
   ]
  },
  {
   "cell_type": "code",
   "execution_count": 2,
   "id": "392016d3",
   "metadata": {},
   "outputs": [],
   "source": [
    "data = pd.read_csv(r\"C:\\Users\\aswin v manoharan\\Downloads\\Students_Performance.csv\")"
   ]
  },
  {
   "cell_type": "markdown",
   "id": "667a0e63",
   "metadata": {},
   "source": [
    "# Find out how many males and females participated in the test"
   ]
  },
  {
   "cell_type": "code",
   "execution_count": 3,
   "id": "f23e6bfc",
   "metadata": {},
   "outputs": [
    {
     "data": {
      "text/html": [
       "<div>\n",
       "<style scoped>\n",
       "    .dataframe tbody tr th:only-of-type {\n",
       "        vertical-align: middle;\n",
       "    }\n",
       "\n",
       "    .dataframe tbody tr th {\n",
       "        vertical-align: top;\n",
       "    }\n",
       "\n",
       "    .dataframe thead th {\n",
       "        text-align: right;\n",
       "    }\n",
       "</style>\n",
       "<table border=\"1\" class=\"dataframe\">\n",
       "  <thead>\n",
       "    <tr style=\"text-align: right;\">\n",
       "      <th></th>\n",
       "      <th>gender</th>\n",
       "      <th>race/ethnicity</th>\n",
       "      <th>parental level of education</th>\n",
       "      <th>lunch</th>\n",
       "      <th>test preparation course</th>\n",
       "      <th>math score</th>\n",
       "      <th>reading score</th>\n",
       "      <th>writing score</th>\n",
       "    </tr>\n",
       "  </thead>\n",
       "  <tbody>\n",
       "    <tr>\n",
       "      <th>0</th>\n",
       "      <td>female</td>\n",
       "      <td>group C</td>\n",
       "      <td>some high school</td>\n",
       "      <td>free/reduced</td>\n",
       "      <td>none</td>\n",
       "      <td>0</td>\n",
       "      <td>17</td>\n",
       "      <td>10</td>\n",
       "    </tr>\n",
       "    <tr>\n",
       "      <th>1</th>\n",
       "      <td>female</td>\n",
       "      <td>group B</td>\n",
       "      <td>high school</td>\n",
       "      <td>free/reduced</td>\n",
       "      <td>none</td>\n",
       "      <td>8</td>\n",
       "      <td>24</td>\n",
       "      <td>23</td>\n",
       "    </tr>\n",
       "    <tr>\n",
       "      <th>2</th>\n",
       "      <td>female</td>\n",
       "      <td>group B</td>\n",
       "      <td>some high school</td>\n",
       "      <td>free/reduced</td>\n",
       "      <td>none</td>\n",
       "      <td>18</td>\n",
       "      <td>32</td>\n",
       "      <td>28</td>\n",
       "    </tr>\n",
       "    <tr>\n",
       "      <th>3</th>\n",
       "      <td>female</td>\n",
       "      <td>group B</td>\n",
       "      <td>some college</td>\n",
       "      <td>standard</td>\n",
       "      <td>none</td>\n",
       "      <td>11</td>\n",
       "      <td>38</td>\n",
       "      <td>32</td>\n",
       "    </tr>\n",
       "    <tr>\n",
       "      <th>4</th>\n",
       "      <td>female</td>\n",
       "      <td>group C</td>\n",
       "      <td>some college</td>\n",
       "      <td>free/reduced</td>\n",
       "      <td>none</td>\n",
       "      <td>22</td>\n",
       "      <td>39</td>\n",
       "      <td>33</td>\n",
       "    </tr>\n",
       "  </tbody>\n",
       "</table>\n",
       "</div>"
      ],
      "text/plain": [
       "   gender race/ethnicity parental level of education         lunch  \\\n",
       "0  female        group C            some high school  free/reduced   \n",
       "1  female        group B                 high school  free/reduced   \n",
       "2  female        group B            some high school  free/reduced   \n",
       "3  female        group B                some college      standard   \n",
       "4  female        group C                some college  free/reduced   \n",
       "\n",
       "  test preparation course  math score  reading score  writing score  \n",
       "0                    none           0             17             10  \n",
       "1                    none           8             24             23  \n",
       "2                    none          18             32             28  \n",
       "3                    none          11             38             32  \n",
       "4                    none          22             39             33  "
      ]
     },
     "execution_count": 3,
     "metadata": {},
     "output_type": "execute_result"
    }
   ],
   "source": [
    "data.head()"
   ]
  },
  {
   "cell_type": "code",
   "execution_count": 4,
   "id": "bbec890f",
   "metadata": {},
   "outputs": [
    {
     "name": "stdout",
     "output_type": "stream",
     "text": [
      "Count of males and females:\n",
      " female    518\n",
      "male      482\n",
      "Name: gender, dtype: int64\n"
     ]
    }
   ],
   "source": [
    "gender_count = data['gender'].value_counts()\n",
    "print(\"Count of males and females:\\n\", gender_count)"
   ]
  },
  {
   "cell_type": "markdown",
   "id": "a0e4d4fa",
   "metadata": {},
   "source": [
    "# What do you think about the students parental level of education"
   ]
  },
  {
   "cell_type": "code",
   "execution_count": 13,
   "id": "a6bf60ec",
   "metadata": {},
   "outputs": [
    {
     "name": "stdout",
     "output_type": "stream",
     "text": [
      "Parental levels of education:\n",
      " ['some high school' 'high school' 'some college' \"associate's degree\"\n",
      " \"bachelor's degree\" \"master's degree\"]\n"
     ]
    }
   ],
   "source": [
    "parental_education_level = data['parental level of education'].unique()\n",
    "print(\"Parental levels of education:\\n\", parental_education_level)"
   ]
  },
  {
   "cell_type": "markdown",
   "id": "bc4ec4ca",
   "metadata": {},
   "source": [
    "# Who scores the most on average for math, reading and\n",
    "# writing based on\n",
    "# i. Gender\n",
    "# ii. Test preparation course"
   ]
  },
  {
   "cell_type": "code",
   "execution_count": 7,
   "id": "c6092c4b",
   "metadata": {},
   "outputs": [
    {
     "name": "stdout",
     "output_type": "stream",
     "text": [
      "Average scores based on gender:\n",
      "         math score  reading score  writing score\n",
      "gender                                          \n",
      "female   63.376448      72.590734      72.467181\n",
      "male     68.821577      65.545643      63.446058\n"
     ]
    },
    {
     "name": "stderr",
     "output_type": "stream",
     "text": [
      "C:\\Users\\aswin v manoharan\\AppData\\Local\\Temp\\ipykernel_9432\\3365683235.py:1: FutureWarning: The default value of numeric_only in DataFrameGroupBy.mean is deprecated. In a future version, numeric_only will default to False. Either specify numeric_only or select only columns which should be valid for the function.\n",
      "  gender_scores = data.groupby('gender').mean()\n"
     ]
    }
   ],
   "source": [
    "gender_scores = data.groupby('gender').mean()\n",
    "print(\"Average scores based on gender:\\n\", gender_scores)"
   ]
  },
  {
   "cell_type": "code",
   "execution_count": 8,
   "id": "96ef9686",
   "metadata": {},
   "outputs": [
    {
     "name": "stdout",
     "output_type": "stream",
     "text": [
      "Average scores based on test preparation course:\n",
      "                          math score  reading score  writing score\n",
      "test preparation course                                          \n",
      "completed                  69.96648      74.175978      74.684358\n",
      "none                       63.78972      66.417445      64.457944\n"
     ]
    },
    {
     "name": "stderr",
     "output_type": "stream",
     "text": [
      "C:\\Users\\aswin v manoharan\\AppData\\Local\\Temp\\ipykernel_9432\\1680989242.py:1: FutureWarning: The default value of numeric_only in DataFrameGroupBy.mean is deprecated. In a future version, numeric_only will default to False. Either specify numeric_only or select only columns which should be valid for the function.\n",
      "  course_scores = data.groupby('test preparation course').mean()\n"
     ]
    }
   ],
   "source": [
    "course_scores = data.groupby('test preparation course').mean()\n",
    "print(\"Average scores based on test preparation course:\\n\", course_scores)"
   ]
  },
  {
   "cell_type": "markdown",
   "id": "866da2ae",
   "metadata": {},
   "source": [
    "# What do you think about the scoring variation for\n",
    "# math, reading and writing based on\n",
    "# i. Gender\n",
    "# ii. Test preparation course"
   ]
  },
  {
   "cell_type": "code",
   "execution_count": 9,
   "id": "d6a9cf9a",
   "metadata": {},
   "outputs": [
    {
     "name": "stdout",
     "output_type": "stream",
     "text": [
      "Scoring variation based on gender:\n",
      "         math score  reading score  writing score\n",
      "gender                                          \n",
      "female  256.958593     207.677438     220.369327\n",
      "male    211.889097     200.211010     202.413924\n"
     ]
    },
    {
     "name": "stderr",
     "output_type": "stream",
     "text": [
      "C:\\Users\\aswin v manoharan\\AppData\\Local\\Temp\\ipykernel_9432\\1000513111.py:1: FutureWarning: The default value of numeric_only in DataFrameGroupBy.var is deprecated. In a future version, numeric_only will default to False. Either specify numeric_only or select only columns which should be valid for the function.\n",
      "  gender_variability = data.groupby('gender').var()\n"
     ]
    }
   ],
   "source": [
    "gender_variability = data.groupby('gender').var()\n",
    "print(\"Scoring variation based on gender:\\n\", gender_variability)"
   ]
  },
  {
   "cell_type": "code",
   "execution_count": 10,
   "id": "553d93cf",
   "metadata": {},
   "outputs": [
    {
     "name": "stdout",
     "output_type": "stream",
     "text": [
      "Scoring variation based on test preparation course:\n",
      "                          math score  reading score  writing score\n",
      "test preparation course                                          \n",
      "completed                210.884027     183.265864     175.202612\n",
      "none                     246.668662     213.419851     226.251739\n"
     ]
    },
    {
     "name": "stderr",
     "output_type": "stream",
     "text": [
      "C:\\Users\\aswin v manoharan\\AppData\\Local\\Temp\\ipykernel_9432\\2177370782.py:1: FutureWarning: The default value of numeric_only in DataFrameGroupBy.var is deprecated. In a future version, numeric_only will default to False. Either specify numeric_only or select only columns which should be valid for the function.\n",
      "  course_variability = data.groupby('test preparation course').var()\n"
     ]
    }
   ],
   "source": [
    "course_variability = data.groupby('test preparation course').var()\n",
    "print(\"Scoring variation based on test preparation course:\\n\", course_variability)\n"
   ]
  },
  {
   "cell_type": "markdown",
   "id": "2b40c394",
   "metadata": {},
   "source": [
    "# The top 25% of students based on their math score"
   ]
  },
  {
   "cell_type": "code",
   "execution_count": 12,
   "id": "f7918476",
   "metadata": {},
   "outputs": [
    {
     "name": "stdout",
     "output_type": "stream",
     "text": [
      "Top 25% of students based on math score:\n",
      "      gender race/ethnicity parental level of education         lunch  \\\n",
      "414  female        group A                 high school  free/reduced   \n",
      "415  female        group B             master's degree  free/reduced   \n",
      "416  female        group B           bachelor's degree  free/reduced   \n",
      "417  female        group B             master's degree      standard   \n",
      "418  female        group B                 high school      standard   \n",
      "..      ...            ...                         ...           ...   \n",
      "995    male        group E                some college      standard   \n",
      "996    male        group A                some college      standard   \n",
      "997    male        group D                some college      standard   \n",
      "998    male        group E          associate's degree  free/reduced   \n",
      "999    male        group E           bachelor's degree      standard   \n",
      "\n",
      "    test preparation course  math score  reading score  writing score  \n",
      "414               completed          77             88             85  \n",
      "415               completed          77             97             94  \n",
      "416                    none          77             85             87  \n",
      "417                    none          77             90             84  \n",
      "418               completed          77             82             89  \n",
      "..                      ...         ...            ...            ...  \n",
      "995               completed          99             87             81  \n",
      "996               completed         100             96             86  \n",
      "997               completed         100             97             99  \n",
      "998               completed         100            100             93  \n",
      "999               completed         100            100            100  \n",
      "\n",
      "[255 rows x 8 columns]\n"
     ]
    }
   ],
   "source": [
    "top_25 = data[data['math score'] >= np.percentile(data['math score'], 75)]\n",
    "print(\"Top 25% of students based on math score:\\n\", top_25)"
   ]
  },
  {
   "cell_type": "code",
   "execution_count": null,
   "id": "267147ec",
   "metadata": {},
   "outputs": [],
   "source": []
  }
 ],
 "metadata": {
  "kernelspec": {
   "display_name": "Python 3 (ipykernel)",
   "language": "python",
   "name": "python3"
  },
  "language_info": {
   "codemirror_mode": {
    "name": "ipython",
    "version": 3
   },
   "file_extension": ".py",
   "mimetype": "text/x-python",
   "name": "python",
   "nbconvert_exporter": "python",
   "pygments_lexer": "ipython3",
   "version": "3.11.4"
  }
 },
 "nbformat": 4,
 "nbformat_minor": 5
}
